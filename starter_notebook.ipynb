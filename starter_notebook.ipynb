{
  "cells": [
    {
      "cell_type": "markdown",
      "id": "72e78a05",
      "metadata": {
        "id": "72e78a05"
      },
      "source": [
        "# 🌦️ WeatherWise – Starter Notebook\n",
        "\n",
        "Welcome to your **WeatherWise** project notebook! This scaffold is designed to help you build your weather advisor app using Python, visualisations, and AI-enhanced development.\n",
        "\n",
        "---\n",
        "\n",
        "\n",
        "🧠 **This Notebook Structure is Optional**  \n",
        "You’re encouraged to reorganise, rename sections, or remove scaffold cells if you prefer — as long as your final version meets the requirements.\n",
        "\n",
        "✅ You may delete this note before submission.\n",
        "\n"
      ]
    },
    {
      "cell_type": "markdown",
      "id": "fa8c7f6c",
      "metadata": {
        "id": "fa8c7f6c"
      },
      "source": [
        "## 🧰 Setup and Imports\n",
        "\n",
        "This section imports commonly used packages and installs any additional tools used in the project.\n"
      ]
    },
    {
      "cell_type": "code",
      "source": [
        "# 🧪 Optional packages — uncomment if needed in Colab or JupyterHub\n",
        "!pip install fetch-my-weather\n",
        "!pip install hands-on-ai\n",
        "!pip install pyinputplus\n"
      ],
      "metadata": {
        "id": "BxrDMJsONOTk",
        "outputId": "8b4fb364-2352-41e5-b1e7-df7032a9f7d2",
        "colab": {
          "base_uri": "https://localhost:8080/"
        }
      },
      "id": "BxrDMJsONOTk",
      "execution_count": 13,
      "outputs": [
        {
          "output_type": "stream",
          "name": "stdout",
          "text": [
            "Requirement already satisfied: fetch-my-weather in /usr/local/lib/python3.11/dist-packages (0.4.0)\n",
            "Requirement already satisfied: requests>=2.25.0 in /usr/local/lib/python3.11/dist-packages (from fetch-my-weather) (2.32.3)\n",
            "Requirement already satisfied: pydantic>=1.8.0 in /usr/local/lib/python3.11/dist-packages (from fetch-my-weather) (2.11.4)\n",
            "Requirement already satisfied: annotated-types>=0.6.0 in /usr/local/lib/python3.11/dist-packages (from pydantic>=1.8.0->fetch-my-weather) (0.7.0)\n",
            "Requirement already satisfied: pydantic-core==2.33.2 in /usr/local/lib/python3.11/dist-packages (from pydantic>=1.8.0->fetch-my-weather) (2.33.2)\n",
            "Requirement already satisfied: typing-extensions>=4.12.2 in /usr/local/lib/python3.11/dist-packages (from pydantic>=1.8.0->fetch-my-weather) (4.13.2)\n",
            "Requirement already satisfied: typing-inspection>=0.4.0 in /usr/local/lib/python3.11/dist-packages (from pydantic>=1.8.0->fetch-my-weather) (0.4.0)\n",
            "Requirement already satisfied: charset-normalizer<4,>=2 in /usr/local/lib/python3.11/dist-packages (from requests>=2.25.0->fetch-my-weather) (3.4.2)\n",
            "Requirement already satisfied: idna<4,>=2.5 in /usr/local/lib/python3.11/dist-packages (from requests>=2.25.0->fetch-my-weather) (3.10)\n",
            "Requirement already satisfied: urllib3<3,>=1.21.1 in /usr/local/lib/python3.11/dist-packages (from requests>=2.25.0->fetch-my-weather) (2.4.0)\n",
            "Requirement already satisfied: certifi>=2017.4.17 in /usr/local/lib/python3.11/dist-packages (from requests>=2.25.0->fetch-my-weather) (2025.4.26)\n",
            "Requirement already satisfied: hands-on-ai in /usr/local/lib/python3.11/dist-packages (0.1.10)\n",
            "Requirement already satisfied: requests in /usr/local/lib/python3.11/dist-packages (from hands-on-ai) (2.32.3)\n",
            "Requirement already satisfied: typer in /usr/local/lib/python3.11/dist-packages (from hands-on-ai) (0.15.3)\n",
            "Requirement already satisfied: python-fasthtml in /usr/local/lib/python3.11/dist-packages (from hands-on-ai) (0.12.18)\n",
            "Requirement already satisfied: python-docx in /usr/local/lib/python3.11/dist-packages (from hands-on-ai) (1.1.2)\n",
            "Requirement already satisfied: pymupdf in /usr/local/lib/python3.11/dist-packages (from hands-on-ai) (1.26.0)\n",
            "Requirement already satisfied: scikit-learn in /usr/local/lib/python3.11/dist-packages (from hands-on-ai) (1.6.1)\n",
            "Requirement already satisfied: numpy in /usr/local/lib/python3.11/dist-packages (from hands-on-ai) (2.0.2)\n",
            "Requirement already satisfied: lxml>=3.1.0 in /usr/local/lib/python3.11/dist-packages (from python-docx->hands-on-ai) (5.4.0)\n",
            "Requirement already satisfied: typing-extensions>=4.9.0 in /usr/local/lib/python3.11/dist-packages (from python-docx->hands-on-ai) (4.13.2)\n",
            "Requirement already satisfied: fastcore>=1.8.1 in /usr/local/lib/python3.11/dist-packages (from python-fasthtml->hands-on-ai) (1.8.2)\n",
            "Requirement already satisfied: python-dateutil in /usr/local/lib/python3.11/dist-packages (from python-fasthtml->hands-on-ai) (2.9.0.post0)\n",
            "Requirement already satisfied: starlette>0.33 in /usr/local/lib/python3.11/dist-packages (from python-fasthtml->hands-on-ai) (0.46.2)\n",
            "Requirement already satisfied: oauthlib in /usr/local/lib/python3.11/dist-packages (from python-fasthtml->hands-on-ai) (3.2.2)\n",
            "Requirement already satisfied: itsdangerous in /usr/local/lib/python3.11/dist-packages (from python-fasthtml->hands-on-ai) (2.2.0)\n",
            "Requirement already satisfied: uvicorn>=0.30 in /usr/local/lib/python3.11/dist-packages (from uvicorn[standard]>=0.30->python-fasthtml->hands-on-ai) (0.34.2)\n",
            "Requirement already satisfied: httpx in /usr/local/lib/python3.11/dist-packages (from python-fasthtml->hands-on-ai) (0.28.1)\n",
            "Requirement already satisfied: fastlite>=0.1.1 in /usr/local/lib/python3.11/dist-packages (from python-fasthtml->hands-on-ai) (0.1.3)\n",
            "Requirement already satisfied: python-multipart in /usr/local/lib/python3.11/dist-packages (from python-fasthtml->hands-on-ai) (0.0.20)\n",
            "Requirement already satisfied: beautifulsoup4 in /usr/local/lib/python3.11/dist-packages (from python-fasthtml->hands-on-ai) (4.13.4)\n",
            "Requirement already satisfied: charset-normalizer<4,>=2 in /usr/local/lib/python3.11/dist-packages (from requests->hands-on-ai) (3.4.2)\n",
            "Requirement already satisfied: idna<4,>=2.5 in /usr/local/lib/python3.11/dist-packages (from requests->hands-on-ai) (3.10)\n",
            "Requirement already satisfied: urllib3<3,>=1.21.1 in /usr/local/lib/python3.11/dist-packages (from requests->hands-on-ai) (2.4.0)\n",
            "Requirement already satisfied: certifi>=2017.4.17 in /usr/local/lib/python3.11/dist-packages (from requests->hands-on-ai) (2025.4.26)\n",
            "Requirement already satisfied: scipy>=1.6.0 in /usr/local/lib/python3.11/dist-packages (from scikit-learn->hands-on-ai) (1.15.3)\n",
            "Requirement already satisfied: joblib>=1.2.0 in /usr/local/lib/python3.11/dist-packages (from scikit-learn->hands-on-ai) (1.5.0)\n",
            "Requirement already satisfied: threadpoolctl>=3.1.0 in /usr/local/lib/python3.11/dist-packages (from scikit-learn->hands-on-ai) (3.6.0)\n",
            "Requirement already satisfied: click>=8.0.0 in /usr/local/lib/python3.11/dist-packages (from typer->hands-on-ai) (8.2.0)\n",
            "Requirement already satisfied: shellingham>=1.3.0 in /usr/local/lib/python3.11/dist-packages (from typer->hands-on-ai) (1.5.4)\n",
            "Requirement already satisfied: rich>=10.11.0 in /usr/local/lib/python3.11/dist-packages (from typer->hands-on-ai) (13.9.4)\n",
            "Requirement already satisfied: packaging in /usr/local/lib/python3.11/dist-packages (from fastcore>=1.8.1->python-fasthtml->hands-on-ai) (24.2)\n",
            "Requirement already satisfied: apswutils>=0.0.2 in /usr/local/lib/python3.11/dist-packages (from fastlite>=0.1.1->python-fasthtml->hands-on-ai) (0.0.2)\n",
            "Requirement already satisfied: markdown-it-py>=2.2.0 in /usr/local/lib/python3.11/dist-packages (from rich>=10.11.0->typer->hands-on-ai) (3.0.0)\n",
            "Requirement already satisfied: pygments<3.0.0,>=2.13.0 in /usr/local/lib/python3.11/dist-packages (from rich>=10.11.0->typer->hands-on-ai) (2.19.1)\n",
            "Requirement already satisfied: anyio<5,>=3.6.2 in /usr/local/lib/python3.11/dist-packages (from starlette>0.33->python-fasthtml->hands-on-ai) (4.9.0)\n",
            "Requirement already satisfied: h11>=0.8 in /usr/local/lib/python3.11/dist-packages (from uvicorn>=0.30->uvicorn[standard]>=0.30->python-fasthtml->hands-on-ai) (0.16.0)\n",
            "Requirement already satisfied: httptools>=0.6.3 in /usr/local/lib/python3.11/dist-packages (from uvicorn[standard]>=0.30->python-fasthtml->hands-on-ai) (0.6.4)\n",
            "Requirement already satisfied: python-dotenv>=0.13 in /usr/local/lib/python3.11/dist-packages (from uvicorn[standard]>=0.30->python-fasthtml->hands-on-ai) (1.1.0)\n",
            "Requirement already satisfied: pyyaml>=5.1 in /usr/local/lib/python3.11/dist-packages (from uvicorn[standard]>=0.30->python-fasthtml->hands-on-ai) (6.0.2)\n",
            "Requirement already satisfied: uvloop!=0.15.0,!=0.15.1,>=0.14.0 in /usr/local/lib/python3.11/dist-packages (from uvicorn[standard]>=0.30->python-fasthtml->hands-on-ai) (0.21.0)\n",
            "Requirement already satisfied: watchfiles>=0.13 in /usr/local/lib/python3.11/dist-packages (from uvicorn[standard]>=0.30->python-fasthtml->hands-on-ai) (1.0.5)\n",
            "Requirement already satisfied: websockets>=10.4 in /usr/local/lib/python3.11/dist-packages (from uvicorn[standard]>=0.30->python-fasthtml->hands-on-ai) (15.0.1)\n",
            "Requirement already satisfied: soupsieve>1.2 in /usr/local/lib/python3.11/dist-packages (from beautifulsoup4->python-fasthtml->hands-on-ai) (2.7)\n",
            "Requirement already satisfied: httpcore==1.* in /usr/local/lib/python3.11/dist-packages (from httpx->python-fasthtml->hands-on-ai) (1.0.9)\n",
            "Requirement already satisfied: six>=1.5 in /usr/local/lib/python3.11/dist-packages (from python-dateutil->python-fasthtml->hands-on-ai) (1.17.0)\n",
            "Requirement already satisfied: sniffio>=1.1 in /usr/local/lib/python3.11/dist-packages (from anyio<5,>=3.6.2->starlette>0.33->python-fasthtml->hands-on-ai) (1.3.1)\n",
            "Requirement already satisfied: apsw in /usr/local/lib/python3.11/dist-packages (from apswutils>=0.0.2->fastlite>=0.1.1->python-fasthtml->hands-on-ai) (3.49.2.0)\n",
            "Requirement already satisfied: mdurl~=0.1 in /usr/local/lib/python3.11/dist-packages (from markdown-it-py>=2.2.0->rich>=10.11.0->typer->hands-on-ai) (0.1.2)\n",
            "Collecting pyinputplus\n",
            "  Downloading PyInputPlus-0.2.12.tar.gz (20 kB)\n",
            "  Installing build dependencies ... \u001b[?25l\u001b[?25hdone\n",
            "  Getting requirements to build wheel ... \u001b[?25l\u001b[?25hdone\n",
            "  Preparing metadata (pyproject.toml) ... \u001b[?25l\u001b[?25hdone\n",
            "Collecting pysimplevalidate>=0.2.7 (from pyinputplus)\n",
            "  Downloading PySimpleValidate-0.2.12.tar.gz (22 kB)\n",
            "  Installing build dependencies ... \u001b[?25l\u001b[?25hdone\n",
            "  Getting requirements to build wheel ... \u001b[?25l\u001b[?25hdone\n",
            "  Preparing metadata (pyproject.toml) ... \u001b[?25l\u001b[?25hdone\n",
            "Collecting stdiomask>=0.0.3 (from pyinputplus)\n",
            "  Downloading stdiomask-0.0.6.tar.gz (3.6 kB)\n",
            "  Installing build dependencies ... \u001b[?25l\u001b[?25hdone\n",
            "  Getting requirements to build wheel ... \u001b[?25l\u001b[?25hdone\n",
            "  Preparing metadata (pyproject.toml) ... \u001b[?25l\u001b[?25hdone\n",
            "Building wheels for collected packages: pyinputplus, pysimplevalidate, stdiomask\n",
            "  Building wheel for pyinputplus (pyproject.toml) ... \u001b[?25l\u001b[?25hdone\n",
            "  Created wheel for pyinputplus: filename=pyinputplus-0.2.12-py3-none-any.whl size=11348 sha256=5f5a1430f0f40963bb5c203a3686287a3e26f473e3babe362642ff81c42a5b64\n",
            "  Stored in directory: /root/.cache/pip/wheels/a3/6b/89/3bec14288af8e0729d088fb41a785e583d49e772f2529c7676\n",
            "  Building wheel for pysimplevalidate (pyproject.toml) ... \u001b[?25l\u001b[?25hdone\n",
            "  Created wheel for pysimplevalidate: filename=pysimplevalidate-0.2.12-py3-none-any.whl size=16226 sha256=8a2f7b168c53a2cce6a9a6a36ccdb1c6289399d2325e79a5763b9dfa4c68ac63\n",
            "  Stored in directory: /root/.cache/pip/wheels/fc/40/7a/4d3b2dc2e80b4b3bbda89eec94fcefd6c8bd1101cc7bb89554\n",
            "  Building wheel for stdiomask (pyproject.toml) ... \u001b[?25l\u001b[?25hdone\n",
            "  Created wheel for stdiomask: filename=stdiomask-0.0.6-py3-none-any.whl size=3356 sha256=0f2b7ad679447c5aa799fba578710832bb8a86c5c12a9c3b0da16e6a2e68a4b0\n",
            "  Stored in directory: /root/.cache/pip/wheels/19/0c/90/5ee0da7cf06ff7e233f273063797785d5eabf0ab9f04220866\n",
            "Successfully built pyinputplus pysimplevalidate stdiomask\n",
            "Installing collected packages: stdiomask, pysimplevalidate, pyinputplus\n",
            "Successfully installed pyinputplus-0.2.12 pysimplevalidate-0.2.12 stdiomask-0.0.6\n"
          ]
        }
      ]
    },
    {
      "cell_type": "markdown",
      "id": "59ae7543",
      "metadata": {
        "id": "59ae7543"
      },
      "source": [
        "## 📦 Setup and Configuration\n",
        "Import required packages and setup environment."
      ]
    },
    {
      "cell_type": "code",
      "source": [
        "import os\n",
        "\n",
        "os.environ['HANDS_ON_AI_SERVER'] = 'http://ollama.serveur.au'      # this is not working  'http://ollama.serveur.au'  getting error because of this. and can't find any solution.\n",
        "os.environ['HANDS_ON_AI_MODEL'] = 'granite3.2'\n",
        "os.environ['HANDS_ON_AI_API_KEY'] = input('Enter your API key: ')"
      ],
      "metadata": {
        "id": "pvPLzDXKNh-8",
        "outputId": "0719adc7-e416-4a54-ca50-37193d9d92ab",
        "colab": {
          "base_uri": "https://localhost:8080/"
        }
      },
      "id": "pvPLzDXKNh-8",
      "execution_count": 16,
      "outputs": [
        {
          "name": "stdout",
          "output_type": "stream",
          "text": [
            "Enter your API key: wttr.in\n"
          ]
        }
      ]
    },
    {
      "cell_type": "code",
      "execution_count": 17,
      "id": "f1dd051e",
      "metadata": {
        "id": "f1dd051e"
      },
      "outputs": [],
      "source": [
        "from fetch_my_weather import get_weather\n",
        "from hands_on_ai.chat import get_response\n",
        "\n",
        "# Add any other setup code here"
      ]
    },
    {
      "cell_type": "markdown",
      "id": "f736ade3",
      "metadata": {
        "id": "f736ade3"
      },
      "source": [
        "## 🌤️ Weather Data Functions"
      ]
    },
    {
      "cell_type": "code",
      "execution_count": 18,
      "id": "7a2c7cd0",
      "metadata": {
        "id": "7a2c7cd0"
      },
      "outputs": [],
      "source": [
        "# Define get_weather_data() function here\n",
        "def get_weather_data(location, days=2):\n",
        "    \"\"\"\n",
        "    Fetch weather forecast data for a given location and number of days.\n",
        "    \"\"\"\n",
        "    try:\n",
        "        data = get_weather(location=location, days=days)\n",
        "        return data\n",
        "    except Exception as e:\n",
        "        print(f\"Error fetching weather data: {e}\")\n",
        "        return None\n",
        "\n"
      ]
    },
    {
      "cell_type": "markdown",
      "id": "8a744fdc",
      "metadata": {
        "id": "8a744fdc"
      },
      "source": [
        "## 📊 Visualisation Functions"
      ]
    },
    {
      "cell_type": "code",
      "execution_count": 19,
      "id": "9dc3bf85",
      "metadata": {
        "id": "9dc3bf85"
      },
      "outputs": [],
      "source": [
        "# Define create_temperature_visualisation() and create_precipitation_visualisation() here\n",
        "import matplotlib.pyplot as plt\n",
        "\n",
        "def create_temperature_visualisation(weather_data):\n",
        "    \"\"\"\n",
        "    Plot the daily high and low temperatures.\n",
        "    \"\"\"\n",
        "    days = [d['date'] for d in weather_data['forecast']]\n",
        "    highs = [d['temperature_high'] for d in weather_data['forecast']]\n",
        "    lows = [d['temperature_low'] for d in weather_data['forecast']]\n",
        "\n",
        "    plt.figure(figsize=(8, 5))\n",
        "    plt.plot(days, highs, label='High Temp', marker='o')\n",
        "    plt.plot(days, lows, label='Low Temp', marker='o')\n",
        "    plt.title('Temperature Forecast')\n",
        "    plt.xlabel('Date')\n",
        "    plt.ylabel('Temperature (°C)')\n",
        "    plt.legend()\n",
        "    plt.grid(True)\n",
        "    plt.show()\n",
        "\n",
        "def create_precipitation_visualisation(weather_data):\n",
        "    \"\"\"\n",
        "    Plot the precipitation chance for each day.\n",
        "    \"\"\"\n",
        "    days = [d['date'] for d in weather_data['forecast']]\n",
        "    precipitation = [d['precipitation_chance'] for d in weather_data['forecast']]\n",
        "\n",
        "    plt.figure(figsize=(8, 5))\n",
        "    plt.bar(days, precipitation, color='skyblue')\n",
        "    plt.title('Precipitation Chance')\n",
        "    plt.xlabel('Date')\n",
        "    plt.ylabel('Chance (%)')\n",
        "    plt.grid(True)\n",
        "    plt.show()\n"
      ]
    },
    {
      "cell_type": "markdown",
      "source": [],
      "metadata": {
        "id": "FypI4zfjB348"
      },
      "id": "FypI4zfjB348"
    },
    {
      "cell_type": "markdown",
      "id": "9f95d160",
      "metadata": {
        "id": "9f95d160"
      },
      "source": [
        "## 🤖 Natural Language Processing"
      ]
    },
    {
      "cell_type": "code",
      "execution_count": 20,
      "id": "bcc5833e",
      "metadata": {
        "id": "bcc5833e"
      },
      "outputs": [],
      "source": [
        "# Define parse_weather_question() and generate_weather_response() here\n",
        "def parse_weather_question(question):\n",
        "    \"\"\"\n",
        "    Use AI to extract intent, location, and timeframe from the user's question.\n",
        "    \"\"\"\n",
        "    prompt = f\"\"\"\n",
        "    Extract the following from this weather question:\n",
        "    - location\n",
        "    - timeframe (e.g., today, tomorrow)\n",
        "    - intent (e.g., rain, umbrella, cold, clothing)\n",
        "\n",
        "    Return the output as a JSON object with keys: location, timeframe, intent.\n",
        "\n",
        "    Question: \"{question}\"\n",
        "    \"\"\"\n",
        "    response = get_response(prompt)\n",
        "    try:\n",
        "        return eval(response)\n",
        "    except:\n",
        "        print(\"Failed to parse response:\", response)\n",
        "        return None\n"
      ]
    },
    {
      "cell_type": "code",
      "source": [
        "def generate_weather_response(parsed_question, weather_data):\n",
        "    \"\"\"\n",
        "    Generate a response based on the parsed question and weather data.\n",
        "    \"\"\"\n",
        "    if not parsed_question or not weather_data:\n",
        "        return \"Sorry, I couldn't understand the question or fetch the weather.\"\n",
        "\n",
        "    intent = parsed_question['intent']\n",
        "    timeframe = parsed_question['timeframe']\n",
        "\n",
        "    forecast = None\n",
        "    for day in weather_data['forecast']:\n",
        "        if timeframe.lower() in day['date'].lower() or timeframe.lower() == \"tomorrow\":\n",
        "            forecast = day\n",
        "            break\n",
        "    if not forecast:\n",
        "        return \"Sorry, I couldn't find the forecast for the requested timeframe.\"\n",
        "\n",
        "    if intent == \"rain\":\n",
        "        return f\"The chance of rain {timeframe} is {forecast['precipitation_chance']}%.\"\n",
        "    elif intent == \"umbrella\":\n",
        "        chance = forecast['precipitation_chance']\n",
        "        return \"Yes, bring an umbrella.\" if chance > 50 else \"No umbrella needed.\"\n",
        "    elif intent == \"cold\":\n",
        "        return f\"The temperature {timeframe} will be between {forecast['temperature_low']}°C and {forecast['temperature_high']}°C.\"\n",
        "    elif intent == \"clothing\":\n",
        "        temp = forecast['temperature_low']\n",
        "        if temp < 10:\n",
        "            return \"Wear warm clothes, it's going to be cold.\"\n",
        "        elif temp < 20:\n",
        "            return \"You might want a light jacket.\"\n",
        "        else:\n",
        "            return \"Light clothing should be fine.\"\n",
        "    else:\n",
        "        return \"I'm not sure how to answer that question.\"\n"
      ],
      "metadata": {
        "id": "a1fmHgobOARV"
      },
      "id": "a1fmHgobOARV",
      "execution_count": 21,
      "outputs": []
    },
    {
      "cell_type": "markdown",
      "id": "0d85225e",
      "metadata": {
        "id": "0d85225e"
      },
      "source": [
        "## 🧭 User Interface"
      ]
    },
    {
      "cell_type": "code",
      "execution_count": 23,
      "id": "fa6cb0f6",
      "metadata": {
        "id": "fa6cb0f6"
      },
      "outputs": [],
      "source": [
        "# Define menu functions using pyinputplus or ipywidgets here\n",
        "import pyinputplus as pyip\n",
        "\n",
        "def enter_location():\n",
        "    location = pyip.inputStr(prompt=\"Enter your location (city name): \")\n",
        "    print(f\"Location set to: {location}\")\n",
        "    return location\n",
        "\n",
        "def ask_weather_question(location):\n",
        "    question = pyip.inputStr(prompt=\"Ask your weather question: \")\n",
        "    parsed = parse_weather_question(question)\n",
        "    if parsed:\n",
        "        weather_data = get_weather_data(location)\n",
        "        response = generate_weather_response(parsed, weather_data)\n",
        "        print(\"🤖 AI says:\", response)\n",
        "    else:\n",
        "        print(\"Couldn't understand the question.\")\n"
      ]
    },
    {
      "cell_type": "markdown",
      "id": "fde44479",
      "metadata": {
        "id": "fde44479"
      },
      "source": [
        "## 🧪 Testing and Examples"
      ]
    },
    {
      "cell_type": "code",
      "execution_count": 26,
      "id": "4e573901",
      "metadata": {
        "id": "4e573901",
        "outputId": "281e89ad-bf4d-4dd7-db52-3345de9969e6",
        "colab": {
          "base_uri": "https://localhost:8080/"
        }
      },
      "outputs": [
        {
          "name": "stdout",
          "output_type": "stream",
          "text": [
            "Please select one of the following:\n",
            "1. Enter Location\n",
            "2. Ask Weather Question\n",
            "3. Exit\n",
            "1\n",
            "Enter your location (city name): melbourne\n",
            "Location set to: melbourne\n",
            "Please select one of the following:\n",
            "1. Enter Location\n",
            "2. Ask Weather Question\n",
            "3. Exit\n",
            "2\n",
            "Ask your weather question: will it rain tommorow in melbourne\n"
          ]
        },
        {
          "output_type": "stream",
          "name": "stderr",
          "text": [
            "[WARNING] Error during request (attempt 1): 401 Client Error: Unauthorized for url: http://ollama.serveur.au/api/generate\n",
            "WARNING:hands_on_ai:Error during request (attempt 1): 401 Client Error: Unauthorized for url: http://ollama.serveur.au/api/generate\n"
          ]
        },
        {
          "output_type": "stream",
          "name": "stdout",
          "text": [
            "Oops! I got a little tangled up... Let's try that again 😊\n"
          ]
        },
        {
          "output_type": "stream",
          "name": "stderr",
          "text": [
            "[WARNING] Error during request (attempt 2): 401 Client Error: Unauthorized for url: http://ollama.serveur.au/api/generate\n",
            "WARNING:hands_on_ai:Error during request (attempt 2): 401 Client Error: Unauthorized for url: http://ollama.serveur.au/api/generate\n"
          ]
        },
        {
          "output_type": "stream",
          "name": "stdout",
          "text": [
            "Failed to parse response: ❌ Error: 401 Client Error: Unauthorized for url: http://ollama.serveur.au/api/generate\n",
            "Couldn't understand the question.\n",
            "Please select one of the following:\n",
            "1. Enter Location\n",
            "2. Ask Weather Question\n",
            "3. Exit\n",
            "3\n",
            "Goodbye!\n"
          ]
        }
      ],
      "source": [
        "# Example 1\n",
        "location = \"Melbourne\"\n",
        "question = \"Will it rain tomorrow in Melbourne?\"\n",
        "parsed = parse_weather_question(question)\n",
        "weather_data = get_weather_data(location)\n",
        "response = generate_weather_response(parsed, weather_data)\n",
        "print(f\"Question: {question}\\nParsed: {parsed}\\nResponse: {response}\")\n",
        "\n",
        "# Example 2\n",
        "question = \"Should I wear a jacket tomorrow?\"\n",
        "parsed = parse_weather_question(question)\n",
        "response = generate_weather_response(parsed, weather_data)\n",
        "print(f\"Question: {question}\\nParsed: {parsed}\\nResponse: {response}\")\n",
        "\n"
      ]
    },
    {
      "cell_type": "markdown",
      "id": "d643a53c",
      "metadata": {
        "id": "d643a53c"
      },
      "source": [
        "## 🧩 Main Application Logic"
      ]
    },
    {
      "cell_type": "code",
      "execution_count": 25,
      "id": "a9e2e805",
      "metadata": {
        "id": "a9e2e805",
        "outputId": "f36a760e-f490-4515-c355-9b884f0b98b0",
        "colab": {
          "base_uri": "https://localhost:8080/"
        }
      },
      "outputs": [
        {
          "name": "stdout",
          "output_type": "stream",
          "text": [
            "Please select one of the following:\n",
            "1. Enter Location\n",
            "2. Ask Weather Question\n",
            "3. Exit\n",
            "sydney\n",
            "'sydney' is not a valid choice.\n",
            "Please select one of the following:\n",
            "1. Enter Location\n",
            "2. Ask Weather Question\n",
            "3. Exit\n",
            "Sydney\n",
            "'Sydney' is not a valid choice.\n",
            "Please select one of the following:\n",
            "1. Enter Location\n",
            "2. Ask Weather Question\n",
            "3. Exit\n",
            "1\n",
            "Enter your location (city name): Sydney\n",
            "Location set to: Sydney\n",
            "Please select one of the following:\n",
            "1. Enter Location\n",
            "2. Ask Weather Question\n",
            "3. Exit\n",
            "2\n",
            "Ask your weather question: What’s the temperature in Sydney today?\n"
          ]
        },
        {
          "output_type": "stream",
          "name": "stderr",
          "text": [
            "[WARNING] Error during request (attempt 1): 401 Client Error: Unauthorized for url: http://ollama.serveur.au/api/generate\n",
            "WARNING:hands_on_ai:Error during request (attempt 1): 401 Client Error: Unauthorized for url: http://ollama.serveur.au/api/generate\n"
          ]
        },
        {
          "output_type": "stream",
          "name": "stdout",
          "text": [
            "Oops! I got a little tangled up... Let's try that again 😊\n"
          ]
        },
        {
          "output_type": "stream",
          "name": "stderr",
          "text": [
            "[WARNING] Error during request (attempt 2): 401 Client Error: Unauthorized for url: http://ollama.serveur.au/api/generate\n",
            "WARNING:hands_on_ai:Error during request (attempt 2): 401 Client Error: Unauthorized for url: http://ollama.serveur.au/api/generate\n"
          ]
        },
        {
          "output_type": "stream",
          "name": "stdout",
          "text": [
            "Failed to parse response: ❌ Error: 401 Client Error: Unauthorized for url: http://ollama.serveur.au/api/generate\n",
            "Couldn't understand the question.\n",
            "Please select one of the following:\n",
            "1. Enter Location\n",
            "2. Ask Weather Question\n",
            "3. Exit\n",
            "3\n",
            "Goodbye!\n"
          ]
        }
      ],
      "source": [
        "# Tie everything together here\n",
        "def main_menu():\n",
        "    location = None\n",
        "    while True:\n",
        "        choice = pyip.inputMenu(['Enter Location', 'Ask Weather Question', 'Exit'], numbered=True)\n",
        "\n",
        "        if choice == 'Enter Location':\n",
        "            location = enter_location()\n",
        "\n",
        "        elif choice == 'Ask Weather Question':\n",
        "            if not location:\n",
        "                print(\"⚠️ Please enter your location first!\")\n",
        "            else:\n",
        "                ask_weather_question(location)\n",
        "\n",
        "        else:\n",
        "            print(\"Goodbye!\")\n",
        "            break\n",
        "\n",
        "# Run the main app\n",
        "main_menu()\n"
      ]
    }
  ],
  "metadata": {
    "language_info": {
      "name": "python"
    },
    "colab": {
      "provenance": []
    },
    "kernelspec": {
      "name": "python3",
      "display_name": "Python 3"
    }
  },
  "nbformat": 4,
  "nbformat_minor": 5
}